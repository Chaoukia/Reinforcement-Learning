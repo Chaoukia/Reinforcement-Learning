{
 "cells": [
  {
   "cell_type": "code",
   "execution_count": 1,
   "metadata": {},
   "outputs": [],
   "source": [
    "import numpy as np\n",
    "import matplotlib.pyplot as plt\n",
    "%matplotlib inline\n",
    "from gridworld import *\n",
    "from gridrender import *\n",
    "from utils import *\n",
    "from homework1_toolbox import *"
   ]
  },
  {
   "cell_type": "markdown",
   "metadata": {},
   "source": [
    "# Dynamic Programming"
   ]
  },
  {
   "cell_type": "markdown",
   "metadata": {},
   "source": [
    "### Q1: Implementing the discrete MDP model"
   ]
  },
  {
   "cell_type": "code",
   "execution_count": 2,
   "metadata": {},
   "outputs": [],
   "source": [
    "n_states = 3\n",
    "n_actions = 3\n",
    "proba_trans = np.zeros((n_states, n_actions, n_states))\n",
    "reward = np.zeros((n_states, n_actions))\n",
    "# Defining the reward\n",
    "# State 1 rewards\n",
    "reward[0, 0] = 0.\n",
    "reward[0, 1] = 0.\n",
    "reward[0, 2] = 5/100\n",
    "# State 2 rewards\n",
    "reward[1, 0] = 0.\n",
    "reward[1, 1] = 0.\n",
    "reward[1, 2] = 0.\n",
    "# State 3 rewards\n",
    "reward[2, 0] = 0.\n",
    "reward[2, 1] = 1.\n",
    "reward[2, 2] = 9/10\n",
    "# Defining the transition probabilities\n",
    "# State 1  as current state\n",
    "proba_trans[0, 0, 0] = 0.55\n",
    "proba_trans[0, 0, 1] = 0.45\n",
    "proba_trans[0, 0, 2] = 0.\n",
    "proba_trans[0, 1, 0] = 0.3\n",
    "proba_trans[0, 1, 1] = 0.7\n",
    "proba_trans[0, 1, 2] = 0.\n",
    "proba_trans[0, 2, 0] = 1.\n",
    "proba_trans[0, 2, 1] = 0.\n",
    "proba_trans[0, 2, 2] = 0.\n",
    "# State 2  as current state\n",
    "proba_trans[1, 0, 0] = 1.\n",
    "proba_trans[1, 0, 1] = 0.\n",
    "proba_trans[1, 0, 2] = 0.\n",
    "proba_trans[1, 1, 0] = 0.\n",
    "proba_trans[1, 1, 1] = 0.4\n",
    "proba_trans[1, 1, 2] = 0.6\n",
    "proba_trans[1, 2, 0] = 0.\n",
    "proba_trans[1, 2, 1] = 1.\n",
    "proba_trans[1, 2, 2] = 0.\n",
    "# State 3  as current state\n",
    "proba_trans[2, 0, 0] = 0.\n",
    "proba_trans[2, 0, 1] = 1.\n",
    "proba_trans[2, 0, 2] = 0.\n",
    "proba_trans[2, 1, 0] = 0.\n",
    "proba_trans[2, 1, 1] = 0.6\n",
    "proba_trans[2, 1, 2] = 0.4\n",
    "proba_trans[2, 2, 0] = 0.\n",
    "proba_trans[2, 2, 1] = 0.\n",
    "proba_trans[2, 2, 2] = 1.\n",
    "\n",
    "mdp = MDP(proba_trans, reward)"
   ]
  },
  {
   "cell_type": "markdown",
   "metadata": {},
   "source": [
    "There are no rewards in state $s_1$, therefore we want to avoid being stuck in it. We have $r(s_2, a_2) = \\frac{9}{10}$, which is a good reward, thus we want to get stuck in state $s_2$, thus we take:\n",
    "$$\n",
    "\\begin{cases}\n",
    "\\pi^*(s_0) = a_1 \\\\\n",
    "\\pi^*(s_1) = a_1 \\\\\n",
    "\\pi^*(s_0) = a_2\n",
    "\\end{cases}\n",
    "$$"
   ]
  },
  {
   "cell_type": "markdown",
   "metadata": {},
   "source": [
    "### Q2 : Value iteration"
   ]
  },
  {
   "cell_type": "markdown",
   "metadata": {},
   "source": [
    "We want a $0.01$-optimal policy, therefore we take $\\frac{2\\epsilon \\gamma}{1 - \\gamma} = 0.01$ where $\\epsilon$ is the stopping criterion of the algorithm."
   ]
  },
  {
   "cell_type": "code",
   "execution_count": 3,
   "metadata": {},
   "outputs": [
    {
     "name": "stdout",
     "output_type": "stream",
     "text": [
      "[1 1 2]\n"
     ]
    }
   ],
   "source": [
    "policy, value = mdp.value_iteration(epsilon = ((1 - 0.95)/(2*0.95))*10**(-2), max_iter = 200)\n",
    "print(policy)"
   ]
  },
  {
   "cell_type": "markdown",
   "metadata": {},
   "source": [
    "This is indeed our guess for the optimal policy."
   ]
  },
  {
   "cell_type": "code",
   "execution_count": 4,
   "metadata": {},
   "outputs": [
    {
     "data": {
      "image/png": "[encoded data removed]",
      "text/plain": [
       "<Figure size 432x288 with 1 Axes>"
      ]
     },
     "metadata": {
      "needs_background": "light"
     },
     "output_type": "display_data"
    }
   ],
   "source": [
    "distances = np.linalg.norm(mdp.value_functions - value, axis = 1)\n",
    "plt.plot(np.arange(mdp.it + 1), distances)\n",
    "plt.xlabel(\"Iteration\")\n",
    "plt.ylabel(r\"$||V^k - V^*||_{\\infty}$\")\n",
    "plt.title(\"Value iteration\")\n",
    "plt.show()"
   ]
  },
  {
   "cell_type": "markdown",
   "metadata": {},
   "source": [
    "### Q3 : Policy iteration"
   ]
  },
  {
   "cell_type": "code",
   "execution_count": 5,
   "metadata": {},
   "outputs": [
    {
     "name": "stdout",
     "output_type": "stream",
     "text": [
      "[1 1 2]\n"
     ]
    }
   ],
   "source": [
    "policy, value = mdp.policy_iteration(max_iter = 200)\n",
    "print(policy)"
   ]
  },
  {
   "cell_type": "code",
   "execution_count": 6,
   "metadata": {},
   "outputs": [
    {
     "data": {
      "image/png": "[encoded data removed]",
      "text/plain": [
       "<Figure size 432x288 with 1 Axes>"
      ]
     },
     "metadata": {
      "needs_background": "light"
     },
     "output_type": "display_data"
    }
   ],
   "source": [
    "distances = np.linalg.norm(mdp.value_functions - value, axis = 1)\n",
    "plt.plot(np.arange(mdp.it + 1), distances)\n",
    "plt.xlabel(\"Iteration\")\n",
    "plt.ylabel(r\"$||V^k - V^*||_{\\infty}$\")\n",
    "plt.title(\"Policy iteration\")\n",
    "plt.show()"
   ]
  },
  {
   "cell_type": "markdown",
   "metadata": {},
   "source": [
    "Timing value iteration and computing the number of iterations it takes until convergence."
   ]
  },
  {
   "cell_type": "code",
   "execution_count": 7,
   "metadata": {},
   "outputs": [
    {
     "name": "stdout",
     "output_type": "stream",
     "text": [
      "6.24 ms ± 942 µs per loop (mean ± std. dev. of 7 runs, 100 loops each)\n"
     ]
    }
   ],
   "source": [
    "%timeit mdp.value_iteration(epsilon = ((1 - 0.95)/(2*0.95))*10**(-2), max_iter = 200)"
   ]
  },
  {
   "cell_type": "code",
   "execution_count": 8,
   "metadata": {},
   "outputs": [
    {
     "name": "stdout",
     "output_type": "stream",
     "text": [
      "number of iterations taken by value iteration :  160\n"
     ]
    }
   ],
   "source": [
    "print(\"number of iterations taken by value iteration : \", mdp.it)"
   ]
  },
  {
   "cell_type": "markdown",
   "metadata": {},
   "source": [
    "Timing policy iteration and computing the number of iterations it takes until convergence."
   ]
  },
  {
   "cell_type": "code",
   "execution_count": 9,
   "metadata": {},
   "outputs": [
    {
     "name": "stdout",
     "output_type": "stream",
     "text": [
      "342 µs ± 67.1 µs per loop (mean ± std. dev. of 7 runs, 1000 loops each)\n"
     ]
    }
   ],
   "source": [
    "%timeit mdp.policy_iteration(max_iter = 200)"
   ]
  },
  {
   "cell_type": "code",
   "execution_count": 10,
   "metadata": {},
   "outputs": [
    {
     "name": "stdout",
     "output_type": "stream",
     "text": [
      "number of iterations taken by policy iteration :  4\n"
     ]
    }
   ],
   "source": [
    "print(\"number of iterations taken by policy iteration : \", mdp.it)"
   ]
  },
  {
   "cell_type": "markdown",
   "metadata": {},
   "source": [
    "In this example, policy iteration is much faster to converge than value iteration and it takes much less iterations.\n",
    "The problem with policy iteration is that it requires a full policy evaltion in each step, thus if the state space is huge this step becomes expensive and value iteration may become the preferable option."
   ]
  },
  {
   "cell_type": "markdown",
   "metadata": {},
   "source": [
    "# Reinforcement Learning"
   ]
  },
  {
   "cell_type": "markdown",
   "metadata": {},
   "source": [
    "### Q4 : Policy evaluation"
   ]
  },
  {
   "cell_type": "code",
   "execution_count": 11,
   "metadata": {},
   "outputs": [],
   "source": [
    "rl = RL(GridWorld1)\n",
    "mu_0 = rl.estimate_initial_distribution(n_samples = 100000) # Estimate the starting state distribution."
   ]
  },
  {
   "cell_type": "code",
   "execution_count": 12,
   "metadata": {},
   "outputs": [],
   "source": [
    "# We define the deterministic policy where we choose right when available and up otherwise.\n",
    "\n",
    "policy = np.zeros((GridWorld1.n_states, len(GridWorld1.action_names)))\n",
    "for state in range(GridWorld1.n_states):\n",
    "    if 0 in GridWorld1.state_actions[state]:\n",
    "        policy[state, 0] = 1\n",
    "\n",
    "    else:\n",
    "        policy[state, 3] = 1\n"
   ]
  },
  {
   "cell_type": "markdown",
   "metadata": {},
   "source": [
    "We take $T_{max} = 140$ to get an approximation of aroun $10^{-3}$ and for each state we simulate 1000 trajectories to estimate the optimal value function."
   ]
  },
  {
   "cell_type": "code",
   "execution_count": 13,
   "metadata": {},
   "outputs": [
    {
     "data": {
      "text/plain": [
       "array([ 0.87423702,  0.92786264,  0.98778725,  0.        ,  0.65303792,\n",
       "       -0.9948725 ,  0.        , -0.82917081, -0.8772077 , -0.93306313,\n",
       "       -0.99466987])"
      ]
     },
     "execution_count": 13,
     "metadata": {},
     "output_type": "execute_result"
    }
   ],
   "source": [
    "# Estimating value function with Monte Carlo approximation using 1000 trajectories for each state.\n",
    "rl.value_monte_carlo_vectorized(policy, range(11), n_trajectories = 1000, max_iter = 140)"
   ]
  },
  {
   "cell_type": "code",
   "execution_count": 14,
   "metadata": {},
   "outputs": [],
   "source": [
    "value_function_true = np.array([0.87691855, 0.92820033, 0.98817903, 0.00000000, 0.67106071, -0.99447514, 0.00000000, -0.82847001, -0.87691855,\n",
    "        -0.93358351, -0.99447514])\n",
    "J = np.dot(mu_0, value_function_true)"
   ]
  },
  {
   "cell_type": "code",
   "execution_count": 27,
   "metadata": {},
   "outputs": [],
   "source": [
    "J_estimates = []\n",
    "n = 10000\n",
    "value_function_n = np.zeros((rl.gridworld.n_states, n)) # Where we store Monte-Carlo run on a trajectory in each iteration.\n",
    "value_function_k = np.zeros(rl.gridworld.n_states) # Where we store Vk(s).\n",
    "visited_states = set([])\n",
    "for k in range(1, n):\n",
    "    state = rl.gridworld.reset()\n",
    "    # Avoid terminal states.\n",
    "    while (state == 3) or (state == 6):\n",
    "        state = rl.gridworld.reset()\n",
    "        \n",
    "    visited_states.add(state)\n",
    "    value_function_n[state, k] = rl.value_monte_carlo(policy, state, n_trajectories = 1, max_iter = 140)\n",
    "    if (k % 10 == 0) and (k > 10):\n",
    "        value_function_k[list(visited_states)] = value_function_n[list(visited_states), :k + 1].sum(axis = 1)/(value_function_n[list(visited_states), :k + 1] != 0).sum(axis = 1)\n",
    "        J_estimates.append(np.dot(mu_0, value_function_k))"
   ]
  },
  {
   "cell_type": "code",
   "execution_count": 28,
   "metadata": {},
   "outputs": [
    {
     "data": {
      "image/png": "[encoded data removed]",
      "text/plain": [
       "<Figure size 432x288 with 1 Axes>"
      ]
     },
     "metadata": {
      "needs_background": "light"
     },
     "output_type": "display_data"
    }
   ],
   "source": [
    "plt.plot(range(len(J_estimates)), J_estimates - J)\n",
    "plt.plot(range(len(J_estimates)), np.zeros(len(J_estimates)))\n",
    "plt.xlabel(\"Number of iterations\")\n",
    "plt.ylabel(r\"$J_{n} - J$\")\n",
    "plt.title(\"Policy evaluation\")\n",
    "plt.show()"
   ]
  },
  {
   "cell_type": "markdown",
   "metadata": {},
   "source": [
    "### Q5 : Policy optimization"
   ]
  },
  {
   "cell_type": "markdown",
   "metadata": {},
   "source": [
    "Assume we have some state-action function $Q_t(x, a)$, and we are in the current state $x_t \\in \\mathcal{X}$. We choose the next state $x_{t + 1}$ according to an $\\epsilon$-greedy policy, that is we choose $a_t = argmax_{a \\in \\mathcal{A}}Q_t(x_t, a)$ with probability $1 - \\epsilon$ otherwise we choose an action from the rest with a uniform distribution. Now that we have simulated the transition $(x_t, a_t, r_t, x_{t + 1})$, we can compute the temporal difference:\n",
    "\\begin{equation}\n",
    "\\delta_t = r_t + \\gamma.max_{a \\in \\mathcal{A}}\\left(Q_t\\left(x_{t + 1}, a \\right) \\right) - Q_t\\left(x_t, a_t \\right)\n",
    "\\end{equation}\n",
    "Then we can update the estimate:\n",
    "\\begin{equation}\n",
    "Q_{t + 1}\\left(x_t, a_t \\right) = Q_{t}\\left(x_t, a_t \\right) + \\alpha_{N\\left(x_t, a_t \\right)}\\delta_t\n",
    "\\end{equation}\n",
    "Where $N\\left(x_t, a_t \\right)$ is the number of times we visited state-action $\\left(x_t, a_t \\right)$, by taking $\\alpha_n = \\frac{1}{n}$, the learining rate satisfies Robbins-Monro conditions:\n",
    "$$\n",
    "\\begin{cases}\n",
    "\\sum_{n}\\alpha_n = \\infty \\\\\n",
    "\\sum_{n}\\alpha_n^2 < \\infty\n",
    "\\end{cases}\n",
    "$$\n",
    "but in order for the $Q$-learning algorithm to converge, all states-actions must be visited infinitly often. This is relying on the quality of the exploratory policy. In this case, a good choice of $\\epsilon$.\n",
    "\n",
    "Note: We may need to decrease $\\epsilon$ to 0 over time with a cooling schedule like SARSA algorithm does with its exploratory policy.\n"
   ]
  },
  {
   "cell_type": "code",
   "execution_count": 29,
   "metadata": {},
   "outputs": [],
   "source": [
    "rl = RL(GridWorld1)\n",
    "greedy_policy, V_episodes, cumulated_rewards = rl.q_learning(epsilon = 0.3, episodes = 5000, max_iter = 140, decay = 0.8, cooling = True)"
   ]
  },
  {
   "cell_type": "code",
   "execution_count": 30,
   "metadata": {},
   "outputs": [],
   "source": [
    "gui.render_policy(GridWorld1, greedy_policy)"
   ]
  },
  {
   "cell_type": "code",
   "execution_count": 31,
   "metadata": {},
   "outputs": [
    {
     "data": {
      "image/png": "[encoded data removed]",
      "text/plain": [
       "<Figure size 432x288 with 1 Axes>"
      ]
     },
     "metadata": {
      "needs_background": "light"
     },
     "output_type": "display_data"
    }
   ],
   "source": [
    "v_opt = [0.87691855, 0.92820033, 0.98817903, 0.00000000, 0.82369294, 0.92820033, 0.00000000, 0.77818504, 0.82369294,\n",
    "         0.87691855, 0.82847001]\n",
    "plt.plot(range(len(V_episodes)), np.linalg.norm(np.array(V_episodes) - np.array(v_opt), np.inf, axis = 1))\n",
    "plt.xlabel(\"Episodes\")\n",
    "plt.ylabel(r\"$||V^* - V^{\\pi_n}||$\")\n",
    "plt.title(\"Policy optimization\")\n",
    "plt.show()"
   ]
  },
  {
   "cell_type": "code",
   "execution_count": 32,
   "metadata": {},
   "outputs": [
    {
     "data": {
      "image/png": "[encoded data removed]",
      "text/plain": [
       "<Figure size 432x288 with 1 Axes>"
      ]
     },
     "metadata": {
      "needs_background": "light"
     },
     "output_type": "display_data"
    }
   ],
   "source": [
    "plt.plot(range(len(V_episodes)), cumulated_rewards)\n",
    "plt.title(\"Cumulative reward\")\n",
    "plt.show()"
   ]
  },
  {
   "cell_type": "markdown",
   "metadata": {},
   "source": [
    "### Q6 : "
   ]
  },
  {
   "cell_type": "markdown",
   "metadata": {},
   "source": [
    "The initial distribution $\\mu_0$ does influence the estimation of the optimal policy.\n",
    "\n",
    "- If $\\mu_0$ always gives an absorbant state, no trajectories will be produced and thus Robbins-Monro condition of visiting each state-action infinitely often does not hold.\n",
    "- If the MDP simulator is deterministic with respect to some state-action, if $m_0$ is poorly chosen, there is a risk of not exploring all the states. There will be a need for a very good exploratory policy, therefore $m_0$ does influence the estimation of the optimal policy."
   ]
  },
  {
   "cell_type": "code",
   "execution_count": null,
   "metadata": {},
   "outputs": [],
   "source": []
  }
 ],
 "metadata": {
  "kernelspec": {
   "display_name": "Python 3",
   "language": "python",
   "name": "python3"
  },
  "language_info": {
   "codemirror_mode": {
    "name": "ipython",
    "version": 3
   },
   "file_extension": ".py",
   "mimetype": "text/x-python",
   "name": "python",
   "nbconvert_exporter": "python",
   "pygments_lexer": "ipython3",
   "version": "3.7.0"
  }
 },
 "nbformat": 4,
 "nbformat_minor": 2
}
